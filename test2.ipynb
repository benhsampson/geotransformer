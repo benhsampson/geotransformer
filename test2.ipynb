{
 "cells": [
  {
   "cell_type": "code",
   "execution_count": 13,
   "metadata": {},
   "outputs": [],
   "source": [
    "import torch\n",
    "import numpy as np\n",
    "import open3d as o3d\n",
    "import copy\n",
    "import laspy\n",
    "import os.path as path\n",
    "import os\n",
    "from scipy.spatial.transform import Rotation"
   ]
  },
  {
   "cell_type": "code",
   "execution_count": 14,
   "metadata": {},
   "outputs": [],
   "source": [
    "def draw_registration_result(source, target, transformation):\n",
    "    source_temp = copy.deepcopy(source)\n",
    "    target_temp = copy.deepcopy(target)\n",
    "    source_temp.paint_uniform_color([1, 0.706, 0])\n",
    "    target_temp.paint_uniform_color([0, 0.651, 0.929])\n",
    "    source_temp.transform(transformation)\n",
    "    o3d.visualization.draw_geometries([source_temp, target_temp],\n",
    "                                      zoom=0.4559,\n",
    "                                      front=[0.6452, -0.3036, -0.7011],\n",
    "                                      lookat=[1.9892, 2.0208, 1.8945],\n",
    "                                      up=[-0.2779, -0.9482, 0.1556])"
   ]
  },
  {
   "cell_type": "code",
   "execution_count": 15,
   "metadata": {},
   "outputs": [
    {
     "name": "stdout",
     "output_type": "stream",
     "text": [
      "Points: 5344661\n"
     ]
    }
   ],
   "source": [
    "LAS_FILE = '/data/318000_5809500.laz'\n",
    "with laspy.open(LAS_FILE) as fp:\n",
    "    print('Points:', fp.header.point_count)\n",
    "    las = fp.read()\n",
    "src_x, src_y, src_z = las.x, las.y, las.z\n",
    "src_points = np.stack((src_x, src_y, src_y)).T\n",
    "local_origin = np.min(src_points, axis=0)\n",
    "src_points -= local_origin"
   ]
  },
  {
   "cell_type": "code",
   "execution_count": 16,
   "metadata": {},
   "outputs": [],
   "source": [
    "def random_sample_rotation(rotation_factor):\n",
    "    euler = np.random.uniform(-1, 1, 3) * np.pi * rotation_factor\n",
    "    rotation = Rotation.from_euler('zyx', euler).as_matrix()\n",
    "    return rotation\n",
    "\n",
    "def random_translation(shift_factor):\n",
    "    shift = np.random.uniform(-shift_factor, shift_factor, 3)\n",
    "    return shift\n",
    "\n",
    "def apply_transform(points, transform):\n",
    "    rotation = transform[:3, :3]\n",
    "    translation = transform[:3, 3]\n",
    "    points = np.matmul(points, rotation.T) + translation\n",
    "    return points\n",
    "\n",
    "def get_transform_from_rotation_translation(rotation, translation):\n",
    "    transform = np.eye(4)\n",
    "    transform[:3, :3] = rotation\n",
    "    transform[:3, 3] = translation\n",
    "    return transform\n",
    "\n",
    "def get_bbox(points):\n",
    "    x, y = points[:, 0], points[:, 1]\n",
    "    return np.min(x), np.max(x), np.min(y), np.max(y)\n",
    "\n",
    "def filter_by_bbox(points, bbox):\n",
    "    x, y = points[:, 0], points[:, 1]\n",
    "    xmin, xmax, ymin, ymax = bbox\n",
    "    return points[(x >= xmin) & (x <= xmax) & (y >= ymin) & (y <= ymax)]\n",
    "\n",
    "def make_open3d_point_cloud(points, colors=None, normals=None):\n",
    "    pcd = o3d.geometry.PointCloud()\n",
    "    pcd.points = o3d.utility.Vector3dVector(points)\n",
    "    if colors is not None:\n",
    "        pcd.colors = o3d.utility.Vector3dVector(colors)\n",
    "    if normals is not None:\n",
    "        pcd.normals = o3d.utility.Vector3dVector(normals)\n",
    "    return pcd"
   ]
  },
  {
   "cell_type": "code",
   "execution_count": 17,
   "metadata": {},
   "outputs": [],
   "source": [
    "# print(get_bbox(src_points))\n",
    "\n",
    "# src_points_filtered = filter_by_bbox(src_points, [80, 100, 80, 100])\n",
    "\n",
    "# len(src_points_filtered)\n",
    "\n",
    "src_points_filtered = src_points"
   ]
  },
  {
   "cell_type": "code",
   "execution_count": 18,
   "metadata": {},
   "outputs": [
    {
     "data": {
      "text/plain": [
       "(5344661, 5344661)"
      ]
     },
     "execution_count": 18,
     "metadata": {},
     "output_type": "execute_result"
    }
   ],
   "source": [
    "aug_rotation_factor = 0.1\n",
    "aug_shift_factor = 2\n",
    "\n",
    "aug_rotation = random_sample_rotation(aug_rotation_factor)\n",
    "aug_translation = random_translation(aug_shift_factor)\n",
    "aug_transform = get_transform_from_rotation_translation(aug_rotation, aug_translation)\n",
    "\n",
    "local_origin = np.min(src_points_filtered, axis=0)\n",
    "src_points = src_points_filtered - local_origin\n",
    "ref_points = apply_transform(src_points, aug_transform)\n",
    "\n",
    "len(src_points), len(ref_points)"
   ]
  },
  {
   "cell_type": "code",
   "execution_count": 19,
   "metadata": {},
   "outputs": [
    {
     "name": "stdout",
     "output_type": "stream",
     "text": [
      "[0. 0. 0.] [499.999 499.999 499.999]\n",
      "[  0.81869914 -54.23751737  -5.09594435] [571.23318576 566.36944132 417.99365604]\n"
     ]
    }
   ],
   "source": [
    "print(src_points.min(axis=0), src_points.max(axis=0))\n",
    "print(ref_points.min(axis=0), ref_points.max(axis=0))"
   ]
  },
  {
   "cell_type": "code",
   "execution_count": 20,
   "metadata": {},
   "outputs": [],
   "source": [
    "src = make_open3d_point_cloud(src_points)\n",
    "ref = make_open3d_point_cloud(ref_points)"
   ]
  },
  {
   "cell_type": "code",
   "execution_count": 7,
   "metadata": {},
   "outputs": [],
   "source": [
    "IDENTITY = np.eye(4)\n",
    "draw_registration_result(src, ref, IDENTITY)\n",
    "draw_registration_result(src, ref, aug_transform)"
   ]
  },
  {
   "cell_type": "code",
   "execution_count": 8,
   "metadata": {},
   "outputs": [],
   "source": [
    "os.makedirs('/data/street', exist_ok=True)\n",
    "np.save('/data/street/src.npy', src_points)\n",
    "np.save('/data/street/ref.npy', ref_points)\n",
    "np.save('/data/street/gt.npy', aug_transform)"
   ]
  },
  {
   "cell_type": "code",
   "execution_count": 5,
   "metadata": {},
   "outputs": [
    {
     "data": {
      "text/plain": [
       "(15642329088, 0, 0)"
      ]
     },
     "execution_count": 5,
     "metadata": {},
     "output_type": "execute_result"
    }
   ],
   "source": [
    "t = torch.cuda.get_device_properties(0).total_memory\n",
    "r = torch.cuda.memory_reserved(0)\n",
    "a = torch.cuda.memory_allocated(0)\n",
    "f = r-a\n",
    "\n",
    "t,r,a"
   ]
  }
 ],
 "metadata": {
  "kernelspec": {
   "display_name": "Python 3",
   "language": "python",
   "name": "python3"
  },
  "language_info": {
   "codemirror_mode": {
    "name": "ipython",
    "version": 3
   },
   "file_extension": ".py",
   "mimetype": "text/x-python",
   "name": "python",
   "nbconvert_exporter": "python",
   "pygments_lexer": "ipython3",
   "version": "3.8.18"
  }
 },
 "nbformat": 4,
 "nbformat_minor": 2
}
